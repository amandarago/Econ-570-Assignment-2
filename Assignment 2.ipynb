{
 "cells": [
  {
   "cell_type": "code",
   "execution_count": 82,
   "id": "062befeb",
   "metadata": {},
   "outputs": [],
   "source": [
    "import warnings \n",
    "warnings.filterwarnings('ignore')\n",
    "import pandas as pd\n",
    "import numpy as np\n",
    "from matplotlib import pyplot as plt\n",
    "import statsmodels.formula.api as smf\n",
    "from toolz import *\n",
    "import seaborn as sns\n",
    "import graphviz as gr\n",
    "from graphviz import Digraph\n",
    "from linearmodels.iv import IV2SLS\n",
    "from statistics import mean"
   ]
  },
  {
   "cell_type": "markdown",
   "id": "00ff3de8",
   "metadata": {},
   "source": [
    "# 1. Randomly Assigned treatment with covariates"
   ]
  },
  {
   "cell_type": "markdown",
   "id": "50975fdf",
   "metadata": {},
   "source": [
    "a coinflip is done in order to decide whether a low carb diet is assigned to a patient\n",
    "\n",
    "modeling randomly assigned low carb diet to patients to determine if they lose weight. covariates are age of patients. \n",
    "\n",
    "weightloss = a0 + a1Age + a2LowCarb + e\n",
    "\n",
    "LowCarb = 0 when treatment is not assigned; LowCarb = 1 when treatment is assigned"
   ]
  },
  {
   "cell_type": "markdown",
   "id": "21c709ac",
   "metadata": {},
   "source": [
    "### DAG"
   ]
  },
  {
   "cell_type": "code",
   "execution_count": 5,
   "id": "f03c0dbb",
   "metadata": {},
   "outputs": [],
   "source": [
    "g = gr.Digraph()\n",
    "g.edge(\"coin flip\",\"lowcarb\")\n",
    "g.edge(\"lowcarb\",\"weightloss\")\n",
    "g.edge(\"age\",\"weightloss\")\n",
    "#g"
   ]
  },
  {
   "cell_type": "markdown",
   "id": "cbd17408",
   "metadata": {},
   "source": [
    "### DGP"
   ]
  },
  {
   "cell_type": "markdown",
   "id": "26805c10",
   "metadata": {},
   "source": [
    "generating a dataframe with columns for age, low carb, and weight. I decided that the mean age should be 45 years old and the mean weight should be 180 lbs. "
   ]
  },
  {
   "cell_type": "code",
   "execution_count": 6,
   "id": "4f3aa53e",
   "metadata": {},
   "outputs": [
    {
     "data": {
      "text/html": [
       "<div>\n",
       "<style scoped>\n",
       "    .dataframe tbody tr th:only-of-type {\n",
       "        vertical-align: middle;\n",
       "    }\n",
       "\n",
       "    .dataframe tbody tr th {\n",
       "        vertical-align: top;\n",
       "    }\n",
       "\n",
       "    .dataframe thead th {\n",
       "        text-align: right;\n",
       "    }\n",
       "</style>\n",
       "<table border=\"1\" class=\"dataframe\">\n",
       "  <thead>\n",
       "    <tr style=\"text-align: right;\">\n",
       "      <th></th>\n",
       "      <th>Age</th>\n",
       "      <th>Low Carb</th>\n",
       "      <th>Weight</th>\n",
       "    </tr>\n",
       "  </thead>\n",
       "  <tbody>\n",
       "    <tr>\n",
       "      <th>0</th>\n",
       "      <td>54.0</td>\n",
       "      <td>1</td>\n",
       "      <td>159.23</td>\n",
       "    </tr>\n",
       "    <tr>\n",
       "      <th>1</th>\n",
       "      <td>21.0</td>\n",
       "      <td>1</td>\n",
       "      <td>139.70</td>\n",
       "    </tr>\n",
       "    <tr>\n",
       "      <th>2</th>\n",
       "      <td>74.0</td>\n",
       "      <td>1</td>\n",
       "      <td>190.20</td>\n",
       "    </tr>\n",
       "    <tr>\n",
       "      <th>3</th>\n",
       "      <td>39.0</td>\n",
       "      <td>1</td>\n",
       "      <td>142.86</td>\n",
       "    </tr>\n",
       "    <tr>\n",
       "      <th>4</th>\n",
       "      <td>31.0</td>\n",
       "      <td>1</td>\n",
       "      <td>248.75</td>\n",
       "    </tr>\n",
       "    <tr>\n",
       "      <th>...</th>\n",
       "      <td>...</td>\n",
       "      <td>...</td>\n",
       "      <td>...</td>\n",
       "    </tr>\n",
       "    <tr>\n",
       "      <th>95</th>\n",
       "      <td>43.0</td>\n",
       "      <td>0</td>\n",
       "      <td>267.31</td>\n",
       "    </tr>\n",
       "    <tr>\n",
       "      <th>96</th>\n",
       "      <td>38.0</td>\n",
       "      <td>0</td>\n",
       "      <td>176.71</td>\n",
       "    </tr>\n",
       "    <tr>\n",
       "      <th>97</th>\n",
       "      <td>56.0</td>\n",
       "      <td>1</td>\n",
       "      <td>156.34</td>\n",
       "    </tr>\n",
       "    <tr>\n",
       "      <th>98</th>\n",
       "      <td>24.0</td>\n",
       "      <td>1</td>\n",
       "      <td>79.03</td>\n",
       "    </tr>\n",
       "    <tr>\n",
       "      <th>99</th>\n",
       "      <td>35.0</td>\n",
       "      <td>0</td>\n",
       "      <td>159.25</td>\n",
       "    </tr>\n",
       "  </tbody>\n",
       "</table>\n",
       "<p>100 rows × 3 columns</p>\n",
       "</div>"
      ],
      "text/plain": [
       "     Age  Low Carb  Weight\n",
       "0   54.0         1  159.23\n",
       "1   21.0         1  139.70\n",
       "2   74.0         1  190.20\n",
       "3   39.0         1  142.86\n",
       "4   31.0         1  248.75\n",
       "..   ...       ...     ...\n",
       "95  43.0         0  267.31\n",
       "96  38.0         0  176.71\n",
       "97  56.0         1  156.34\n",
       "98  24.0         1   79.03\n",
       "99  35.0         0  159.25\n",
       "\n",
       "[100 rows x 3 columns]"
      ]
     },
     "execution_count": 6,
     "metadata": {},
     "output_type": "execute_result"
    }
   ],
   "source": [
    "n=100\n",
    "np.random.seed(1234)\n",
    "\n",
    "age = {'Age':np.random.normal(45,20,n).round()} # mean age = 45\n",
    "\n",
    "lowcarb = {'Low Carb':np.where(np.random.normal(1,10,n)<=0,0,1)} #Treatment;dummy only taking 0 or 1\n",
    "\n",
    "weightloss = {'Weight':np.random.normal(180,65,n).round(2)} #outcome\n",
    "\n",
    "Age = pd.DataFrame(data=age)\n",
    "LowCarb = pd.DataFrame(data=lowcarb)\n",
    "Weightloss = pd.DataFrame(data=weightloss)\n",
    "\n",
    "df1 = pd.concat([Age,LowCarb,Weightloss],axis=1)\n",
    "df1 #our data for this"
   ]
  },
  {
   "cell_type": "markdown",
   "id": "adccbc8b",
   "metadata": {},
   "source": [
    "### Monte Carlo Experiment"
   ]
  },
  {
   "cell_type": "code",
   "execution_count": 7,
   "id": "985dfc5d",
   "metadata": {},
   "outputs": [
    {
     "name": "stdout",
     "output_type": "stream",
     "text": [
      "    Age  Low Carb  Weight\n",
      "0  17.0         1  119.85\n",
      "1  50.0         1  189.09\n",
      "2  21.0         0  108.71\n",
      "3  14.0         1  270.50\n",
      "4  63.0         1  109.33\n",
      "    Age  Low Carb  Weight\n",
      "0  39.0         1  206.29\n",
      "1  42.0         0  201.97\n",
      "2  49.0         1  221.69\n",
      "3  35.0         1   72.23\n",
      "4  39.0         1  159.13\n"
     ]
    }
   ],
   "source": [
    "data = []\n",
    "\n",
    "def monte_carlo(n):\n",
    "    for i in range(n):\n",
    "        age = {'Age':np.random.normal(45,20,n).round()}\n",
    "\n",
    "        lowcarb = {'Low Carb':np.where(np.random.normal(1,10,n)<=0,0,1)}\n",
    "        \n",
    "        weightloss = {'Weight':np.random.normal(180,65,n).round(2)}\n",
    "        \n",
    "        Age = pd.DataFrame(data=age)\n",
    "        LowCarb = pd.DataFrame(data=lowcarb)\n",
    "        Weightloss = pd.DataFrame(data=weightloss)\n",
    "    \n",
    "        data = pd.concat([Age,LowCarb,Weightloss],axis=1)\n",
    "    return data\n",
    "Data1 = monte_carlo(100)\n",
    "print(Data1.head())\n",
    "Data2 = monte_carlo(100)\n",
    "print (Data2.head())"
   ]
  },
  {
   "cell_type": "markdown",
   "id": "a5e54caa",
   "metadata": {},
   "source": [
    "RMSE Calculation"
   ]
  },
  {
   "cell_type": "code",
   "execution_count": 8,
   "id": "6b395765",
   "metadata": {
    "scrolled": true
   },
   "outputs": [
    {
     "name": "stdout",
     "output_type": "stream",
     "text": [
      "48.06837993941547\n"
     ]
    }
   ],
   "source": [
    "from sklearn.metrics import mean_squared_error as mse\n",
    "from math import sqrt\n",
    "\n",
    "actual = Data1\n",
    "pred = Data2\n",
    "RMSE = sqrt(mse(actual,pred))\n",
    "print(RMSE)"
   ]
  },
  {
   "cell_type": "markdown",
   "id": "36a54531",
   "metadata": {},
   "source": [
    "Treatment Effect & Bias"
   ]
  },
  {
   "cell_type": "markdown",
   "id": "44d77ffb",
   "metadata": {},
   "source": [
    "Running an OLS regression using the data from the Data1 dataframe "
   ]
  },
  {
   "cell_type": "code",
   "execution_count": 9,
   "id": "22617621",
   "metadata": {},
   "outputs": [
    {
     "name": "stdout",
     "output_type": "stream",
     "text": [
      "                            OLS Regression Results                            \n",
      "==============================================================================\n",
      "Dep. Variable:                 Weight   R-squared:                       0.012\n",
      "Model:                            OLS   Adj. R-squared:                 -0.008\n",
      "Method:                 Least Squares   F-statistic:                    0.5980\n",
      "Date:                Wed, 13 Apr 2022   Prob (F-statistic):              0.552\n",
      "Time:                        11:06:40   Log-Likelihood:                -550.25\n",
      "No. Observations:                 100   AIC:                             1107.\n",
      "Df Residuals:                      97   BIC:                             1114.\n",
      "Df Model:                           2                                         \n",
      "Covariance Type:            nonrobust                                         \n",
      "==============================================================================\n",
      "                 coef    std err          t      P>|t|      [0.025      0.975]\n",
      "------------------------------------------------------------------------------\n",
      "Intercept    181.6712     16.348     11.113      0.000     149.224     214.118\n",
      "LowCarb      -12.8324     12.073     -1.063      0.290     -36.795      11.130\n",
      "Age           -0.0612      0.286     -0.214      0.831      -0.628       0.505\n",
      "==============================================================================\n",
      "Omnibus:                        0.082   Durbin-Watson:                   2.290\n",
      "Prob(Omnibus):                  0.960   Jarque-Bera (JB):                0.056\n",
      "Skew:                           0.050   Prob(JB):                        0.973\n",
      "Kurtosis:                       2.941   Cond. No.                         154.\n",
      "==============================================================================\n",
      "\n",
      "Notes:\n",
      "[1] Standard Errors assume that the covariance matrix of the errors is correctly specified.\n"
     ]
    }
   ],
   "source": [
    "# Run OLS regression on Data1\n",
    "ols = smf.ols(formula=\"Weight ~ LowCarb + Age\",data=Data1).fit()\n",
    "print(ols.summary())"
   ]
  },
  {
   "cell_type": "markdown",
   "id": "139d32ce",
   "metadata": {},
   "source": [
    "the treatment effect can be interpreted as the prediction for the coefficient of LowCarb. An assignment of a low carb diet increases/decreases (depending of if coef is pos/neg) weight by (value of coef for LowCarb). "
   ]
  },
  {
   "cell_type": "markdown",
   "id": "7f87d47c",
   "metadata": {},
   "source": [
    "#### Bias"
   ]
  },
  {
   "cell_type": "markdown",
   "id": "463b8a24",
   "metadata": {},
   "source": [
    "Bias for the outcome of treatment being calculated. \n",
    "Taking the predicted value for Weight from the OLS regression subtracting the average of the actual Weight from the generated data. "
   ]
  },
  {
   "cell_type": "code",
   "execution_count": 81,
   "id": "006e117c",
   "metadata": {
    "scrolled": true
   },
   "outputs": [
    {
     "name": "stdout",
     "output_type": "stream",
     "text": [
      "-3.3943000000000154\n"
     ]
    }
   ],
   "source": [
    "Predicted_Weight = ols.predict()\n",
    "Actual_Weight = Data1[\"Weight\"]\n",
    "Bias = mean(Predicted_Weight) - mean(Actual_Weight)\n",
    "print(Bias)"
   ]
  },
  {
   "cell_type": "markdown",
   "id": "74e43ef3",
   "metadata": {},
   "source": [
    "## for uncontrolled"
   ]
  },
  {
   "cell_type": "markdown",
   "id": "2fa3f407",
   "metadata": {},
   "source": [
    "uncontrolled means there will be no inclusion of age as a factor"
   ]
  },
  {
   "cell_type": "markdown",
   "id": "82a1b466",
   "metadata": {},
   "source": [
    "#### DAG"
   ]
  },
  {
   "cell_type": "code",
   "execution_count": 84,
   "id": "178a73dc",
   "metadata": {},
   "outputs": [],
   "source": [
    "g = gr.Digraph()\n",
    "g.edge(\"coin flip\",\"lowcarb\")\n",
    "g.edge(\"lowcarb\",\"weightloss\")"
   ]
  },
  {
   "cell_type": "markdown",
   "id": "4a4e164c",
   "metadata": {},
   "source": [
    "#### DGP"
   ]
  },
  {
   "cell_type": "markdown",
   "id": "4b53d4d1",
   "metadata": {},
   "source": [
    "creating a dataframe with columns for low carb diet assignment and weight"
   ]
  },
  {
   "cell_type": "code",
   "execution_count": null,
   "id": "db8d09c1",
   "metadata": {},
   "outputs": [],
   "source": [
    "n=100\n",
    "np.random.seed(1234)\n",
    "\n",
    "lowcarb = {'Low Carb':np.where(np.random.normal(1,10,n)<=0,0,1)} #Treatment;dummy only taking 0 or 1\n",
    "\n",
    "weightloss = {'Weight':np.random.normal(180,65,n).round(2)} #outcome\n",
    "\n",
    "LowCarb = pd.DataFrame(data=lowcarb)\n",
    "Weightloss = pd.DataFrame(data=weightloss)\n",
    "\n",
    "df1 = pd.concat([LowCarb,Weightloss],axis=1)\n",
    "df1 #our data for this"
   ]
  },
  {
   "cell_type": "markdown",
   "id": "1845637d",
   "metadata": {},
   "source": [
    "#### Monte Carlo"
   ]
  },
  {
   "cell_type": "code",
   "execution_count": 30,
   "id": "ab18b156",
   "metadata": {},
   "outputs": [
    {
     "name": "stdout",
     "output_type": "stream",
     "text": [
      "   Low Carb  Weight\n",
      "0         1  244.00\n",
      "1         0  207.43\n",
      "2         1  182.31\n",
      "3         0  137.57\n",
      "4         0  155.67\n",
      "   Low Carb  Weight\n",
      "0         1  106.67\n",
      "1         0  243.98\n",
      "2         0   83.95\n",
      "3         0  209.32\n",
      "4         1  218.17\n"
     ]
    }
   ],
   "source": [
    "data = []\n",
    "\n",
    "def monte_carlo(n):\n",
    "    for i in range(n):\n",
    "\n",
    "        lowcarb = {'Low Carb':np.where(np.random.normal(1,10,n)<=0,0,1)}\n",
    "        \n",
    "        weightloss = {'Weight':np.random.normal(180,65,n).round(2)}\n",
    "        \n",
    "        LowCarb = pd.DataFrame(data=lowcarb)\n",
    "        Weightloss = pd.DataFrame(data=weightloss)\n",
    "    \n",
    "        data = pd.concat([LowCarb,Weightloss],axis=1)\n",
    "    return data\n",
    "Data1 = monte_carlo(100)\n",
    "print(Data1.head())\n",
    "Data2 = monte_carlo(100)\n",
    "print (Data2.head())"
   ]
  },
  {
   "cell_type": "markdown",
   "id": "579b5d1d",
   "metadata": {},
   "source": [
    "RMSE calculation"
   ]
  },
  {
   "cell_type": "code",
   "execution_count": 31,
   "id": "a2561af0",
   "metadata": {},
   "outputs": [
    {
     "name": "stdout",
     "output_type": "stream",
     "text": [
      "63.40619910939308\n"
     ]
    }
   ],
   "source": [
    "actual = Data1\n",
    "pred = Data2\n",
    "RMSE = sqrt(mse(actual,pred))\n",
    "print(RMSE)"
   ]
  },
  {
   "cell_type": "markdown",
   "id": "2f82f8e3",
   "metadata": {},
   "source": [
    "Treatment Effect"
   ]
  },
  {
   "cell_type": "code",
   "execution_count": 32,
   "id": "9f9c25ba",
   "metadata": {},
   "outputs": [
    {
     "name": "stdout",
     "output_type": "stream",
     "text": [
      "                            OLS Regression Results                            \n",
      "==============================================================================\n",
      "Dep. Variable:                 Weight   R-squared:                       0.004\n",
      "Model:                            OLS   Adj. R-squared:                 -0.007\n",
      "Method:                 Least Squares   F-statistic:                    0.3572\n",
      "Date:                Wed, 13 Apr 2022   Prob (F-statistic):              0.551\n",
      "Time:                        11:14:48   Log-Likelihood:                -546.65\n",
      "No. Observations:                 100   AIC:                             1097.\n",
      "Df Residuals:                      98   BIC:                             1103.\n",
      "Df Model:                           1                                         \n",
      "Covariance Type:            nonrobust                                         \n",
      "==============================================================================\n",
      "                 coef    std err          t      P>|t|      [0.025      0.975]\n",
      "------------------------------------------------------------------------------\n",
      "Intercept    179.6019      8.348     21.514      0.000     163.035     196.169\n",
      "LowCarb       -6.9190     11.577     -0.598      0.551     -29.893      16.055\n",
      "==============================================================================\n",
      "Omnibus:                        8.239   Durbin-Watson:                   2.264\n",
      "Prob(Omnibus):                  0.016   Jarque-Bera (JB):                7.862\n",
      "Skew:                          -0.643   Prob(JB):                       0.0196\n",
      "Kurtosis:                       3.481   Cond. No.                         2.67\n",
      "==============================================================================\n",
      "\n",
      "Notes:\n",
      "[1] Standard Errors assume that the covariance matrix of the errors is correctly specified.\n"
     ]
    }
   ],
   "source": [
    "# Run OLS regression on Data1\n",
    "ols = smf.ols(formula=\"Weight ~ LowCarb\",data=Data1).fit()\n",
    "print(ols.summary())"
   ]
  },
  {
   "cell_type": "markdown",
   "id": "3e06cea3",
   "metadata": {},
   "source": [
    "#### Bias"
   ]
  },
  {
   "cell_type": "code",
   "execution_count": 79,
   "id": "33c6308d",
   "metadata": {},
   "outputs": [
    {
     "name": "stdout",
     "output_type": "stream",
     "text": [
      "-3.3943000000000154\n"
     ]
    }
   ],
   "source": [
    "Predicted_Weight = ols.predict()\n",
    "Actual_Weight = Data1[\"Weight\"]\n",
    "Bias = mean(Predicted_Weight) - mean(Actual_Weight)\n",
    "print(Bias)"
   ]
  },
  {
   "cell_type": "markdown",
   "id": "0c54f41a",
   "metadata": {},
   "source": [
    "\n",
    "\n",
    "# 2. Confounding Variables"
   ]
  },
  {
   "cell_type": "markdown",
   "id": "3b4d59aa",
   "metadata": {},
   "source": [
    "Confounder Scenario:\n",
    "\n",
    "if a patient is considered to have poor self control with their health/lifestyle, they are put on a low carb diet in order to help them lose weight \n",
    "\n",
    "modeling again the effect of a low carb diet on a patients weight, but this time the patient is only assigned a low carb diet if they are considered to have poor self control over their health and lifestyle; SelfControl is our confounding variable\n",
    "\n",
    "if SelfControl = 1, LowCarb = 1; if SelfControl = 0, LowCarb = 0"
   ]
  },
  {
   "cell_type": "markdown",
   "id": "fbba55ab",
   "metadata": {},
   "source": [
    "### DAG"
   ]
  },
  {
   "cell_type": "code",
   "execution_count": 87,
   "id": "3b1263af",
   "metadata": {},
   "outputs": [],
   "source": [
    "g = gr.Digraph()\n",
    "g.edge(\"self control\",\"low carb\")\n",
    "g.edge(\"self control\",\"weight\")\n",
    "g.edge(\"low carb\",\"weight\")\n",
    "#g"
   ]
  },
  {
   "cell_type": "markdown",
   "id": "95248905",
   "metadata": {},
   "source": [
    "### DGP"
   ]
  },
  {
   "cell_type": "markdown",
   "id": "d67e4130",
   "metadata": {},
   "source": [
    "creating dataframe with columns for whether a doctor would consider the patient to have self control (binary), low carb diet assignment, and weight"
   ]
  },
  {
   "cell_type": "code",
   "execution_count": 93,
   "id": "078370f1",
   "metadata": {},
   "outputs": [
    {
     "data": {
      "text/html": [
       "<div>\n",
       "<style scoped>\n",
       "    .dataframe tbody tr th:only-of-type {\n",
       "        vertical-align: middle;\n",
       "    }\n",
       "\n",
       "    .dataframe tbody tr th {\n",
       "        vertical-align: top;\n",
       "    }\n",
       "\n",
       "    .dataframe thead th {\n",
       "        text-align: right;\n",
       "    }\n",
       "</style>\n",
       "<table border=\"1\" class=\"dataframe\">\n",
       "  <thead>\n",
       "    <tr style=\"text-align: right;\">\n",
       "      <th></th>\n",
       "      <th>Low Carb</th>\n",
       "      <th>Self Control</th>\n",
       "      <th>Weight</th>\n",
       "    </tr>\n",
       "  </thead>\n",
       "  <tbody>\n",
       "    <tr>\n",
       "      <th>0</th>\n",
       "      <td>1</td>\n",
       "      <td>1</td>\n",
       "      <td>232.91</td>\n",
       "    </tr>\n",
       "    <tr>\n",
       "      <th>1</th>\n",
       "      <td>0</td>\n",
       "      <td>0</td>\n",
       "      <td>235.67</td>\n",
       "    </tr>\n",
       "    <tr>\n",
       "      <th>2</th>\n",
       "      <td>1</td>\n",
       "      <td>1</td>\n",
       "      <td>235.04</td>\n",
       "    </tr>\n",
       "    <tr>\n",
       "      <th>3</th>\n",
       "      <td>0</td>\n",
       "      <td>0</td>\n",
       "      <td>232.85</td>\n",
       "    </tr>\n",
       "    <tr>\n",
       "      <th>4</th>\n",
       "      <td>0</td>\n",
       "      <td>0</td>\n",
       "      <td>234.84</td>\n",
       "    </tr>\n",
       "    <tr>\n",
       "      <th>...</th>\n",
       "      <td>...</td>\n",
       "      <td>...</td>\n",
       "      <td>...</td>\n",
       "    </tr>\n",
       "    <tr>\n",
       "      <th>95</th>\n",
       "      <td>1</td>\n",
       "      <td>1</td>\n",
       "      <td>225.68</td>\n",
       "    </tr>\n",
       "    <tr>\n",
       "      <th>96</th>\n",
       "      <td>0</td>\n",
       "      <td>0</td>\n",
       "      <td>228.39</td>\n",
       "    </tr>\n",
       "    <tr>\n",
       "      <th>97</th>\n",
       "      <td>1</td>\n",
       "      <td>1</td>\n",
       "      <td>238.89</td>\n",
       "    </tr>\n",
       "    <tr>\n",
       "      <th>98</th>\n",
       "      <td>0</td>\n",
       "      <td>0</td>\n",
       "      <td>232.88</td>\n",
       "    </tr>\n",
       "    <tr>\n",
       "      <th>99</th>\n",
       "      <td>0</td>\n",
       "      <td>0</td>\n",
       "      <td>219.48</td>\n",
       "    </tr>\n",
       "  </tbody>\n",
       "</table>\n",
       "<p>100 rows × 3 columns</p>\n",
       "</div>"
      ],
      "text/plain": [
       "    Low Carb  Self Control  Weight\n",
       "0          1             1  232.91\n",
       "1          0             0  235.67\n",
       "2          1             1  235.04\n",
       "3          0             0  232.85\n",
       "4          0             0  234.84\n",
       "..       ...           ...     ...\n",
       "95         1             1  225.68\n",
       "96         0             0  228.39\n",
       "97         1             1  238.89\n",
       "98         0             0  232.88\n",
       "99         0             0  219.48\n",
       "\n",
       "[100 rows x 3 columns]"
      ]
     },
     "execution_count": 93,
     "metadata": {},
     "output_type": "execute_result"
    }
   ],
   "source": [
    "n=100\n",
    "np.random.seed(1234)\n",
    "\n",
    "#Confounder;dummy \n",
    "selfcontrol = {'Self Control':np.where(np.random.normal(1,10,n)<=0,0,1)} \n",
    "\n",
    "#Treatment;dummy\n",
    "lowcarb = selfcontrol\n",
    "\n",
    "weightloss = {'Weight':np.random.normal(230,10,n).round(2)} #outcome\n",
    "\n",
    "\n",
    "SelfControl = pd.DataFrame(data=selfcontrol)\n",
    "LowCarb = pd.DataFrame(data=lowcarb)\n",
    "Weightloss = pd.DataFrame(data=weightloss)\n",
    "\n",
    "df2 = pd.concat([LowCarb,SelfControl,Weightloss],axis=1)\n",
    "df2.columns = ['Low Carb','Self Control','Weight'] \n",
    "df2 #our data for this\n"
   ]
  },
  {
   "cell_type": "markdown",
   "id": "36e03abf",
   "metadata": {},
   "source": [
    "### Monte Carlo Sim"
   ]
  },
  {
   "cell_type": "code",
   "execution_count": 35,
   "id": "5fafc301",
   "metadata": {},
   "outputs": [
    {
     "name": "stdout",
     "output_type": "stream",
     "text": [
      "   Low Carb  Self Control  Weight\n",
      "0         0             0  180.90\n",
      "1         0             0  212.96\n",
      "2         0             0  144.45\n",
      "3         1             1  203.77\n",
      "4         0             0  202.01\n",
      "   Low Carb  Self Control  Weight\n",
      "0         0             0  131.03\n",
      "1         1             1  132.51\n",
      "2         1             1  159.05\n",
      "3         0             0  197.04\n",
      "4         1             1  256.17\n"
     ]
    }
   ],
   "source": [
    "data = []\n",
    "\n",
    "def monte_carlo(n):\n",
    "    for i in range(n):\n",
    "        selfcontrol = {'Self Control':np.where(np.random.normal(1,10,n)<=0,0,1)} \n",
    "\n",
    "        lowcarb = selfcontrol\n",
    "        \n",
    "        weightloss = {'Weight':np.random.normal(180,65,n).round(2)}\n",
    "        \n",
    "        SelfControl = pd.DataFrame(data=selfcontrol)\n",
    "        LowCarb = pd.DataFrame(data=lowcarb)\n",
    "        Weightloss = pd.DataFrame(data=weightloss)\n",
    "    \n",
    "        data = pd.concat([SelfControl,LowCarb,Weightloss],axis=1)\n",
    "        data.columns = ['Low Carb','Self Control','Weight']\n",
    "    return data\n",
    "DataConfound1 = monte_carlo(100)\n",
    "print(DataConfound1.head())\n",
    "DataConfound2 = monte_carlo(100)\n",
    "print (DataConfound2.head())"
   ]
  },
  {
   "cell_type": "markdown",
   "id": "8d174161",
   "metadata": {},
   "source": [
    "RMSE Calculation"
   ]
  },
  {
   "cell_type": "code",
   "execution_count": 36,
   "id": "6644e79b",
   "metadata": {
    "scrolled": true
   },
   "outputs": [
    {
     "name": "stdout",
     "output_type": "stream",
     "text": [
      "51.10953378447769\n"
     ]
    }
   ],
   "source": [
    "actual = DataConfound1\n",
    "pred = DataConfound2\n",
    "RMSE = sqrt(mse(actual,pred))\n",
    "print(RMSE)"
   ]
  },
  {
   "cell_type": "code",
   "execution_count": 37,
   "id": "f3cd0145",
   "metadata": {},
   "outputs": [
    {
     "name": "stdout",
     "output_type": "stream",
     "text": [
      "                            OLS Regression Results                            \n",
      "==============================================================================\n",
      "Dep. Variable:                 Weight   R-squared:                       0.058\n",
      "Model:                            OLS   Adj. R-squared:                  0.049\n",
      "Method:                 Least Squares   F-statistic:                     6.073\n",
      "Date:                Wed, 13 Apr 2022   Prob (F-statistic):             0.0155\n",
      "Time:                        11:15:23   Log-Likelihood:                -558.08\n",
      "No. Observations:                 100   AIC:                             1120.\n",
      "Df Residuals:                      98   BIC:                             1125.\n",
      "Df Model:                           1                                         \n",
      "Covariance Type:            nonrobust                                         \n",
      "===============================================================================\n",
      "                  coef    std err          t      P>|t|      [0.025      0.975]\n",
      "-------------------------------------------------------------------------------\n",
      "Intercept     192.1793     10.252     18.745      0.000     171.834     212.524\n",
      "LowCarb       -16.3080      6.618     -2.464      0.015     -29.441      -3.175\n",
      "SelfControl   -16.3080      6.618     -2.464      0.015     -29.441      -3.175\n",
      "==============================================================================\n",
      "Omnibus:                        0.631   Durbin-Watson:                   2.212\n",
      "Prob(Omnibus):                  0.729   Jarque-Bera (JB):                0.252\n",
      "Skew:                          -0.069   Prob(JB):                        0.882\n",
      "Kurtosis:                       3.203   Cond. No.                     1.80e+16\n",
      "==============================================================================\n",
      "\n",
      "Notes:\n",
      "[1] Standard Errors assume that the covariance matrix of the errors is correctly specified.\n",
      "[2] The smallest eigenvalue is 6.04e-31. This might indicate that there are\n",
      "strong multicollinearity problems or that the design matrix is singular.\n"
     ]
    }
   ],
   "source": [
    "# Run OLS regression on DataConfound1\n",
    "ols = smf.ols(formula=\"Weight ~ LowCarb + SelfControl\",data=DataConfound1).fit()\n",
    "print(ols.summary())"
   ]
  },
  {
   "cell_type": "markdown",
   "id": "8f58a409",
   "metadata": {},
   "source": [
    "####  Bias"
   ]
  },
  {
   "cell_type": "code",
   "execution_count": 78,
   "id": "b6fd459c",
   "metadata": {},
   "outputs": [
    {
     "name": "stdout",
     "output_type": "stream",
     "text": [
      "-2.842170943040401e-14\n"
     ]
    }
   ],
   "source": [
    "Predicted_Weight = ols.predict()\n",
    "Actual_Weight = DataConfound1[\"Weight\"]\n",
    "Bias = mean(Predicted_Weight) - mean(Actual_Weight)\n",
    "print(Bias)"
   ]
  },
  {
   "cell_type": "markdown",
   "id": "f0425172",
   "metadata": {},
   "source": [
    "### uncontrolled"
   ]
  },
  {
   "cell_type": "markdown",
   "id": "fe3b6e9f",
   "metadata": {},
   "source": [
    "#### DAG"
   ]
  },
  {
   "cell_type": "code",
   "execution_count": 89,
   "id": "f540cd05",
   "metadata": {},
   "outputs": [],
   "source": [
    "g = gr.Digraph()\n",
    "g.edge(\"low carb\",\"weight\")\n",
    "#g\n",
    "\n"
   ]
  },
  {
   "cell_type": "markdown",
   "id": "1b794e27",
   "metadata": {},
   "source": [
    "#### DGP"
   ]
  },
  {
   "cell_type": "markdown",
   "id": "86775dec",
   "metadata": {},
   "source": [
    "not controlling for whether or not a patient is considered to have self control, the dataframe now only consists of Low Carb assignment and weight. Here, avg weight is 230 lbs "
   ]
  },
  {
   "cell_type": "code",
   "execution_count": 45,
   "id": "edccbd8f",
   "metadata": {},
   "outputs": [
    {
     "data": {
      "text/html": [
       "<div>\n",
       "<style scoped>\n",
       "    .dataframe tbody tr th:only-of-type {\n",
       "        vertical-align: middle;\n",
       "    }\n",
       "\n",
       "    .dataframe tbody tr th {\n",
       "        vertical-align: top;\n",
       "    }\n",
       "\n",
       "    .dataframe thead th {\n",
       "        text-align: right;\n",
       "    }\n",
       "</style>\n",
       "<table border=\"1\" class=\"dataframe\">\n",
       "  <thead>\n",
       "    <tr style=\"text-align: right;\">\n",
       "      <th></th>\n",
       "      <th>Low Carb</th>\n",
       "      <th>Weight</th>\n",
       "    </tr>\n",
       "  </thead>\n",
       "  <tbody>\n",
       "    <tr>\n",
       "      <th>0</th>\n",
       "      <td>1</td>\n",
       "      <td>232.91</td>\n",
       "    </tr>\n",
       "    <tr>\n",
       "      <th>1</th>\n",
       "      <td>0</td>\n",
       "      <td>235.67</td>\n",
       "    </tr>\n",
       "    <tr>\n",
       "      <th>2</th>\n",
       "      <td>1</td>\n",
       "      <td>235.04</td>\n",
       "    </tr>\n",
       "    <tr>\n",
       "      <th>3</th>\n",
       "      <td>0</td>\n",
       "      <td>232.85</td>\n",
       "    </tr>\n",
       "    <tr>\n",
       "      <th>4</th>\n",
       "      <td>0</td>\n",
       "      <td>234.84</td>\n",
       "    </tr>\n",
       "    <tr>\n",
       "      <th>...</th>\n",
       "      <td>...</td>\n",
       "      <td>...</td>\n",
       "    </tr>\n",
       "    <tr>\n",
       "      <th>95</th>\n",
       "      <td>1</td>\n",
       "      <td>225.68</td>\n",
       "    </tr>\n",
       "    <tr>\n",
       "      <th>96</th>\n",
       "      <td>0</td>\n",
       "      <td>228.39</td>\n",
       "    </tr>\n",
       "    <tr>\n",
       "      <th>97</th>\n",
       "      <td>1</td>\n",
       "      <td>238.89</td>\n",
       "    </tr>\n",
       "    <tr>\n",
       "      <th>98</th>\n",
       "      <td>0</td>\n",
       "      <td>232.88</td>\n",
       "    </tr>\n",
       "    <tr>\n",
       "      <th>99</th>\n",
       "      <td>0</td>\n",
       "      <td>219.48</td>\n",
       "    </tr>\n",
       "  </tbody>\n",
       "</table>\n",
       "<p>100 rows × 2 columns</p>\n",
       "</div>"
      ],
      "text/plain": [
       "    Low Carb  Weight\n",
       "0          1  232.91\n",
       "1          0  235.67\n",
       "2          1  235.04\n",
       "3          0  232.85\n",
       "4          0  234.84\n",
       "..       ...     ...\n",
       "95         1  225.68\n",
       "96         0  228.39\n",
       "97         1  238.89\n",
       "98         0  232.88\n",
       "99         0  219.48\n",
       "\n",
       "[100 rows x 2 columns]"
      ]
     },
     "execution_count": 45,
     "metadata": {},
     "output_type": "execute_result"
    }
   ],
   "source": [
    "n=100\n",
    "np.random.seed(1234)\n",
    "\n",
    "lowcarb = {'Low Carb':np.where(np.random.normal(1,10,n)<=0,0,1)}\n",
    "\n",
    "weightloss = {'Weight':np.random.normal(230,10,n).round(2)} #outcome\n",
    "\n",
    "LowCarb = pd.DataFrame(data=lowcarb)\n",
    "Weightloss = pd.DataFrame(data=weightloss)\n",
    "\n",
    "df2 = pd.concat([LowCarb,Weightloss],axis=1)\n",
    "df2.columns = ['Low Carb','Weight'] \n",
    "df2 #our data for this"
   ]
  },
  {
   "cell_type": "markdown",
   "id": "c63c23ee",
   "metadata": {},
   "source": [
    "#### Monte Carlo"
   ]
  },
  {
   "cell_type": "code",
   "execution_count": 46,
   "id": "6d552429",
   "metadata": {},
   "outputs": [
    {
     "name": "stdout",
     "output_type": "stream",
     "text": [
      "   Low Carb  Weight\n",
      "0         0  180.90\n",
      "1         0  212.96\n",
      "2         0  144.45\n",
      "3         1  203.77\n",
      "4         0  202.01\n",
      "   Low Carb  Weight\n",
      "0         0  131.03\n",
      "1         1  132.51\n",
      "2         1  159.05\n",
      "3         0  197.04\n",
      "4         1  256.17\n"
     ]
    }
   ],
   "source": [
    "data = []\n",
    "\n",
    "def monte_carlo(n):\n",
    "    for i in range(n):\n",
    "       \n",
    "        lowcarb = {'Low Carb':np.where(np.random.normal(1,10,n)<=0,0,1)}\n",
    "        \n",
    "        weightloss = {'Weight':np.random.normal(180,65,n).round(2)}\n",
    "        \n",
    "        LowCarb = pd.DataFrame(data=lowcarb)\n",
    "        Weightloss = pd.DataFrame(data=weightloss)\n",
    "    \n",
    "        data = pd.concat([LowCarb,Weightloss],axis=1)\n",
    "        data.columns = ['Low Carb','Weight']\n",
    "    return data\n",
    "DataConfound1 = monte_carlo(100)\n",
    "print(DataConfound1.head())\n",
    "DataConfound2 = monte_carlo(100)\n",
    "print (DataConfound2.head())"
   ]
  },
  {
   "cell_type": "markdown",
   "id": "695472ca",
   "metadata": {},
   "source": [
    "RMSE calculation"
   ]
  },
  {
   "cell_type": "code",
   "execution_count": 47,
   "id": "ff1c57ce",
   "metadata": {},
   "outputs": [
    {
     "name": "stdout",
     "output_type": "stream",
     "text": [
      "62.593902782140056\n"
     ]
    }
   ],
   "source": [
    "actual = DataConfound1\n",
    "pred = DataConfound2\n",
    "RMSE = sqrt(mse(actual,pred))\n",
    "print(RMSE)"
   ]
  },
  {
   "cell_type": "markdown",
   "id": "28b75c69",
   "metadata": {},
   "source": [
    "Treatment Effect"
   ]
  },
  {
   "cell_type": "code",
   "execution_count": 70,
   "id": "8660c730",
   "metadata": {},
   "outputs": [
    {
     "name": "stdout",
     "output_type": "stream",
     "text": [
      "                            OLS Regression Results                            \n",
      "==============================================================================\n",
      "Dep. Variable:                 Weight   R-squared:                      -0.000\n",
      "Model:                            OLS   Adj. R-squared:                 -0.000\n",
      "Method:                 Least Squares   F-statistic:                       nan\n",
      "Date:                Wed, 13 Apr 2022   Prob (F-statistic):                nan\n",
      "Time:                        11:24:09   Log-Likelihood:                -561.08\n",
      "No. Observations:                 100   AIC:                             1124.\n",
      "Df Residuals:                      99   BIC:                             1127.\n",
      "Df Model:                           0                                         \n",
      "Covariance Type:            nonrobust                                         \n",
      "==============================================================================\n",
      "                 coef    std err          t      P>|t|      [0.025      0.975]\n",
      "------------------------------------------------------------------------------\n",
      "Intercept     86.3048      3.324     25.964      0.000      79.709      92.900\n",
      "LowCarb       86.3048      3.324     25.964      0.000      79.709      92.900\n",
      "==============================================================================\n",
      "Omnibus:                        0.040   Durbin-Watson:                   2.300\n",
      "Prob(Omnibus):                  0.980   Jarque-Bera (JB):                0.050\n",
      "Skew:                          -0.035   Prob(JB):                        0.975\n",
      "Kurtosis:                       2.916   Cond. No.                     7.24e+16\n",
      "==============================================================================\n",
      "\n",
      "Notes:\n",
      "[1] Standard Errors assume that the covariance matrix of the errors is correctly specified.\n",
      "[2] The smallest eigenvalue is 3.81e-32. This might indicate that there are\n",
      "strong multicollinearity problems or that the design matrix is singular.\n"
     ]
    }
   ],
   "source": [
    "# Run OLS regression on DataConfound1\n",
    "ols = smf.ols(formula=\"Weight ~ LowCarb\",data=DataConfound1).fit()\n",
    "print(ols.summary())"
   ]
  },
  {
   "cell_type": "markdown",
   "id": "45ba6cac",
   "metadata": {},
   "source": [
    "#### Bias"
   ]
  },
  {
   "cell_type": "code",
   "execution_count": 71,
   "id": "2ac3189f",
   "metadata": {},
   "outputs": [
    {
     "name": "stdout",
     "output_type": "stream",
     "text": [
      "-2.842170943040401e-14\n"
     ]
    }
   ],
   "source": [
    "Predicted_Weight = ols.predict()\n",
    "Actual_Weight = DataConfound1[\"Weight\"]\n",
    "Bias = mean(Predicted_Weight) - mean(Actual_Weight)\n",
    "print(Bias)"
   ]
  },
  {
   "cell_type": "markdown",
   "id": "89726984",
   "metadata": {},
   "source": [
    "# 3. Selection Bias"
   ]
  },
  {
   "cell_type": "markdown",
   "id": "d4d5327a",
   "metadata": {},
   "source": [
    "a low carb diet is randomly assigned to patients as in (1), but the patients are only those that are deemed as obese. again, we are seeing the low carb diet effect on patient weight.\n",
    "\n",
    "again, a coinflip decides whether a patient is to be put on a low carb diet, and the only patients are those that are obese\n",
    "\n",
    "weight = a0 + a1LowCarb + a2Obese + e"
   ]
  },
  {
   "cell_type": "markdown",
   "id": "25b3d519",
   "metadata": {},
   "source": [
    "### DAG"
   ]
  },
  {
   "cell_type": "code",
   "execution_count": 91,
   "id": "42ee6407",
   "metadata": {},
   "outputs": [],
   "source": [
    "g = gr.Digraph()\n",
    "g.edge(\"lowcarb\", \"obese\")\n",
    "g.edge(\"lowcarb\",\"weight\")\n",
    "g.edge(\"obese\",\"weight\")\n",
    "#g"
   ]
  },
  {
   "cell_type": "markdown",
   "id": "bc142e9d",
   "metadata": {},
   "source": [
    "### DGP"
   ]
  },
  {
   "cell_type": "markdown",
   "id": "d4989b2e",
   "metadata": {},
   "source": [
    "in this dataframe, the low carb diet assignment will only consist of 1's because everyone in this section has been assigned the treatment because they have been diagonosed with obesity (another column now in the dataframe consisting of only 1's). There is also a column for weight"
   ]
  },
  {
   "cell_type": "code",
   "execution_count": 50,
   "id": "92fd749f",
   "metadata": {},
   "outputs": [
    {
     "data": {
      "text/html": [
       "<div>\n",
       "<style scoped>\n",
       "    .dataframe tbody tr th:only-of-type {\n",
       "        vertical-align: middle;\n",
       "    }\n",
       "\n",
       "    .dataframe tbody tr th {\n",
       "        vertical-align: top;\n",
       "    }\n",
       "\n",
       "    .dataframe thead th {\n",
       "        text-align: right;\n",
       "    }\n",
       "</style>\n",
       "<table border=\"1\" class=\"dataframe\">\n",
       "  <thead>\n",
       "    <tr style=\"text-align: right;\">\n",
       "      <th></th>\n",
       "      <th>Low Carb</th>\n",
       "      <th>Obese</th>\n",
       "      <th>Weight</th>\n",
       "    </tr>\n",
       "  </thead>\n",
       "  <tbody>\n",
       "    <tr>\n",
       "      <th>0</th>\n",
       "      <td>1</td>\n",
       "      <td>1</td>\n",
       "      <td>226.80</td>\n",
       "    </tr>\n",
       "    <tr>\n",
       "      <th>1</th>\n",
       "      <td>1</td>\n",
       "      <td>1</td>\n",
       "      <td>223.80</td>\n",
       "    </tr>\n",
       "    <tr>\n",
       "      <th>2</th>\n",
       "      <td>1</td>\n",
       "      <td>1</td>\n",
       "      <td>231.57</td>\n",
       "    </tr>\n",
       "    <tr>\n",
       "      <th>3</th>\n",
       "      <td>1</td>\n",
       "      <td>1</td>\n",
       "      <td>224.29</td>\n",
       "    </tr>\n",
       "    <tr>\n",
       "      <th>4</th>\n",
       "      <td>1</td>\n",
       "      <td>1</td>\n",
       "      <td>240.58</td>\n",
       "    </tr>\n",
       "    <tr>\n",
       "      <th>...</th>\n",
       "      <td>...</td>\n",
       "      <td>...</td>\n",
       "      <td>...</td>\n",
       "    </tr>\n",
       "    <tr>\n",
       "      <th>95</th>\n",
       "      <td>1</td>\n",
       "      <td>1</td>\n",
       "      <td>243.43</td>\n",
       "    </tr>\n",
       "    <tr>\n",
       "      <th>96</th>\n",
       "      <td>1</td>\n",
       "      <td>1</td>\n",
       "      <td>229.49</td>\n",
       "    </tr>\n",
       "    <tr>\n",
       "      <th>97</th>\n",
       "      <td>1</td>\n",
       "      <td>1</td>\n",
       "      <td>226.36</td>\n",
       "    </tr>\n",
       "    <tr>\n",
       "      <th>98</th>\n",
       "      <td>1</td>\n",
       "      <td>1</td>\n",
       "      <td>214.47</td>\n",
       "    </tr>\n",
       "    <tr>\n",
       "      <th>99</th>\n",
       "      <td>1</td>\n",
       "      <td>1</td>\n",
       "      <td>226.81</td>\n",
       "    </tr>\n",
       "  </tbody>\n",
       "</table>\n",
       "<p>100 rows × 3 columns</p>\n",
       "</div>"
      ],
      "text/plain": [
       "    Low Carb  Obese  Weight\n",
       "0          1      1  226.80\n",
       "1          1      1  223.80\n",
       "2          1      1  231.57\n",
       "3          1      1  224.29\n",
       "4          1      1  240.58\n",
       "..       ...    ...     ...\n",
       "95         1      1  243.43\n",
       "96         1      1  229.49\n",
       "97         1      1  226.36\n",
       "98         1      1  214.47\n",
       "99         1      1  226.81\n",
       "\n",
       "[100 rows x 3 columns]"
      ]
     },
     "execution_count": 50,
     "metadata": {},
     "output_type": "execute_result"
    }
   ],
   "source": [
    "n=100\n",
    "np.random.seed(1234)\n",
    "\n",
    "#Treatment;dummy only taking 1 since everyone in this set has been assigned treatment \n",
    "lowcarb = {'Low Carb':np.where(np.random.normal(1,10,n)<=1,1,1)} \n",
    "\n",
    "#Selection Bias;dummy only taking 1 since all patients are obese that are receiving the treatment\n",
    "obese = {'Obese':np.where(np.random.normal(1,10,n)<=1,1,1)} \n",
    "\n",
    "weightloss = {'Weight':np.random.normal(230,10,n).round(2)} #outcome\n",
    "\n",
    "Obese = pd.DataFrame(data=obese)\n",
    "LowCarb = pd.DataFrame(data=lowcarb)\n",
    "Weightloss = pd.DataFrame(data=weightloss)\n",
    "\n",
    "df3 = pd.concat([LowCarb,Obese,Weightloss],axis=1)\n",
    "df3 #our data for this"
   ]
  },
  {
   "cell_type": "markdown",
   "id": "44d386cf",
   "metadata": {},
   "source": [
    "### Monte Carlo Sim"
   ]
  },
  {
   "cell_type": "code",
   "execution_count": 51,
   "id": "eaa460ec",
   "metadata": {},
   "outputs": [
    {
     "name": "stdout",
     "output_type": "stream",
     "text": [
      "   Low Carb  Obese  Weight\n",
      "0         1      1  220.75\n",
      "1         1      1  231.40\n",
      "2         1      1  219.03\n",
      "3         1      1  243.92\n",
      "4         1      1  219.13\n",
      "   Low Carb  Obese  Weight\n",
      "0         1      1  234.04\n",
      "1         1      1  233.38\n",
      "2         1      1  236.41\n",
      "3         1      1  213.42\n",
      "4         1      1  226.79\n"
     ]
    }
   ],
   "source": [
    "data = []\n",
    "\n",
    "def monte_carlo(n):\n",
    "    for i in range(n):\n",
    "        lowcarb = {'Low Carb':np.where(np.random.normal(1,10,n)<=1,1,1)} \n",
    "\n",
    "        obese = {'Obese':np.where(np.random.normal(1,10,n)<=1,1,1)} \n",
    "        \n",
    "        weightloss = {'Weight':np.random.normal(230,10,n).round(2)}\n",
    "        \n",
    "        Obese = pd.DataFrame(data=obese)\n",
    "        LowCarb = pd.DataFrame(data=lowcarb)\n",
    "        Weightloss = pd.DataFrame(data=weightloss)\n",
    "    \n",
    "        data = pd.concat([LowCarb,Obese,Weightloss],axis=1)\n",
    "    return data\n",
    "DataSB1 = monte_carlo(100)\n",
    "print(DataSB1.head())\n",
    "DataSB2 = monte_carlo(100)\n",
    "print (DataSB2.head())"
   ]
  },
  {
   "cell_type": "markdown",
   "id": "25212c5d",
   "metadata": {},
   "source": [
    "RMSE Calculation"
   ]
  },
  {
   "cell_type": "code",
   "execution_count": null,
   "id": "6d461a3b",
   "metadata": {},
   "outputs": [],
   "source": [
    "actual = DataSB1\n",
    "pred = DataSB2\n",
    "RMSE = sqrt(mse(actual,pred))\n",
    "print(RMSE)"
   ]
  },
  {
   "cell_type": "markdown",
   "id": "e8da04ea",
   "metadata": {},
   "source": [
    "Treatment Effect"
   ]
  },
  {
   "cell_type": "code",
   "execution_count": 52,
   "id": "4240aa9d",
   "metadata": {},
   "outputs": [
    {
     "name": "stdout",
     "output_type": "stream",
     "text": [
      "                            OLS Regression Results                            \n",
      "==============================================================================\n",
      "Dep. Variable:                 Weight   R-squared:                       0.000\n",
      "Model:                            OLS   Adj. R-squared:                  0.000\n",
      "Method:                 Least Squares   F-statistic:                       nan\n",
      "Date:                Wed, 13 Apr 2022   Prob (F-statistic):                nan\n",
      "Time:                        11:18:06   Log-Likelihood:                -363.69\n",
      "No. Observations:                 100   AIC:                             729.4\n",
      "Df Residuals:                      99   BIC:                             732.0\n",
      "Df Model:                           0                                         \n",
      "Covariance Type:            nonrobust                                         \n",
      "==============================================================================\n",
      "                 coef    std err          t      P>|t|      [0.025      0.975]\n",
      "------------------------------------------------------------------------------\n",
      "Intercept     76.2552      0.308    247.726      0.000      75.644      76.866\n",
      "LowCarb       76.2552      0.308    247.726      0.000      75.644      76.866\n",
      "Obese         76.2552      0.308    247.726      0.000      75.644      76.866\n",
      "==============================================================================\n",
      "Omnibus:                        0.004   Durbin-Watson:                   2.301\n",
      "Prob(Omnibus):                  0.998   Jarque-Bera (JB):                0.056\n",
      "Skew:                           0.008   Prob(JB):                        0.972\n",
      "Kurtosis:                       2.885   Cond. No.                     6.39e+32\n",
      "==============================================================================\n",
      "\n",
      "Notes:\n",
      "[1] Standard Errors assume that the covariance matrix of the errors is correctly specified.\n",
      "[2] The smallest eigenvalue is 7.35e-64. This might indicate that there are\n",
      "strong multicollinearity problems or that the design matrix is singular.\n"
     ]
    }
   ],
   "source": [
    "# Run OLS regression on DataSB1\n",
    "ols = smf.ols(formula=\"Weight ~ LowCarb + Obese\",data=DataSB1).fit()\n",
    "print(ols.summary())"
   ]
  },
  {
   "cell_type": "markdown",
   "id": "f41cdb6c",
   "metadata": {},
   "source": [
    "#### Bias"
   ]
  },
  {
   "cell_type": "code",
   "execution_count": 69,
   "id": "96af82f2",
   "metadata": {},
   "outputs": [
    {
     "name": "stdout",
     "output_type": "stream",
     "text": [
      "-2.842170943040401e-14\n"
     ]
    }
   ],
   "source": [
    "Predicted_Weight = ols.predict()\n",
    "Actual_Weight = DataSB1[\"Weight\"]\n",
    "Bias = mean(Predicted_Weight) - mean(Actual_Weight)\n",
    "print(Bias)"
   ]
  },
  {
   "cell_type": "markdown",
   "id": "0d55ed71",
   "metadata": {},
   "source": [
    "### Uncontrolled"
   ]
  },
  {
   "cell_type": "markdown",
   "id": "8f92dfe1",
   "metadata": {},
   "source": [
    "#### DAG"
   ]
  },
  {
   "cell_type": "code",
   "execution_count": 92,
   "id": "fe2ed8e0",
   "metadata": {},
   "outputs": [],
   "source": [
    "g = gr.Digraph()\n",
    "g.edge(\"lowcarb\",\"weight\")\n",
    "#g"
   ]
  },
  {
   "cell_type": "markdown",
   "id": "391d2ef7",
   "metadata": {},
   "source": [
    "#### DGP"
   ]
  },
  {
   "cell_type": "markdown",
   "id": "96c67daf",
   "metadata": {},
   "source": [
    "no longer controlling for patients diagnosed with obesity, the Obese column is no longer included, but weight and low carb assinment remains (consisting of only 1's). "
   ]
  },
  {
   "cell_type": "code",
   "execution_count": 54,
   "id": "c2c89bcd",
   "metadata": {},
   "outputs": [
    {
     "data": {
      "text/html": [
       "<div>\n",
       "<style scoped>\n",
       "    .dataframe tbody tr th:only-of-type {\n",
       "        vertical-align: middle;\n",
       "    }\n",
       "\n",
       "    .dataframe tbody tr th {\n",
       "        vertical-align: top;\n",
       "    }\n",
       "\n",
       "    .dataframe thead th {\n",
       "        text-align: right;\n",
       "    }\n",
       "</style>\n",
       "<table border=\"1\" class=\"dataframe\">\n",
       "  <thead>\n",
       "    <tr style=\"text-align: right;\">\n",
       "      <th></th>\n",
       "      <th>Low Carb</th>\n",
       "      <th>Weight</th>\n",
       "    </tr>\n",
       "  </thead>\n",
       "  <tbody>\n",
       "    <tr>\n",
       "      <th>0</th>\n",
       "      <td>1</td>\n",
       "      <td>232.91</td>\n",
       "    </tr>\n",
       "    <tr>\n",
       "      <th>1</th>\n",
       "      <td>1</td>\n",
       "      <td>235.67</td>\n",
       "    </tr>\n",
       "    <tr>\n",
       "      <th>2</th>\n",
       "      <td>1</td>\n",
       "      <td>235.04</td>\n",
       "    </tr>\n",
       "    <tr>\n",
       "      <th>3</th>\n",
       "      <td>1</td>\n",
       "      <td>232.85</td>\n",
       "    </tr>\n",
       "    <tr>\n",
       "      <th>4</th>\n",
       "      <td>1</td>\n",
       "      <td>234.84</td>\n",
       "    </tr>\n",
       "    <tr>\n",
       "      <th>...</th>\n",
       "      <td>...</td>\n",
       "      <td>...</td>\n",
       "    </tr>\n",
       "    <tr>\n",
       "      <th>95</th>\n",
       "      <td>1</td>\n",
       "      <td>225.68</td>\n",
       "    </tr>\n",
       "    <tr>\n",
       "      <th>96</th>\n",
       "      <td>1</td>\n",
       "      <td>228.39</td>\n",
       "    </tr>\n",
       "    <tr>\n",
       "      <th>97</th>\n",
       "      <td>1</td>\n",
       "      <td>238.89</td>\n",
       "    </tr>\n",
       "    <tr>\n",
       "      <th>98</th>\n",
       "      <td>1</td>\n",
       "      <td>232.88</td>\n",
       "    </tr>\n",
       "    <tr>\n",
       "      <th>99</th>\n",
       "      <td>1</td>\n",
       "      <td>219.48</td>\n",
       "    </tr>\n",
       "  </tbody>\n",
       "</table>\n",
       "<p>100 rows × 2 columns</p>\n",
       "</div>"
      ],
      "text/plain": [
       "    Low Carb  Weight\n",
       "0          1  232.91\n",
       "1          1  235.67\n",
       "2          1  235.04\n",
       "3          1  232.85\n",
       "4          1  234.84\n",
       "..       ...     ...\n",
       "95         1  225.68\n",
       "96         1  228.39\n",
       "97         1  238.89\n",
       "98         1  232.88\n",
       "99         1  219.48\n",
       "\n",
       "[100 rows x 2 columns]"
      ]
     },
     "execution_count": 54,
     "metadata": {},
     "output_type": "execute_result"
    }
   ],
   "source": [
    "n=100\n",
    "np.random.seed(1234)\n",
    "\n",
    "#Treatment;dummy only taking 1 since everyone in this set has been assigned treatment \n",
    "lowcarb = {'Low Carb':np.where(np.random.normal(1,10,n)<=1,1,1)} \n",
    "\n",
    "weightloss = {'Weight':np.random.normal(230,10,n).round(2)} #outcome\n",
    "\n",
    "LowCarb = pd.DataFrame(data=lowcarb)\n",
    "Weightloss = pd.DataFrame(data=weightloss)\n",
    "\n",
    "df3 = pd.concat([LowCarb,Weightloss],axis=1)\n",
    "df3 #our data for this"
   ]
  },
  {
   "cell_type": "markdown",
   "id": "8faa7729",
   "metadata": {},
   "source": [
    "#### Monte Carlo"
   ]
  },
  {
   "cell_type": "code",
   "execution_count": 55,
   "id": "d7baae2b",
   "metadata": {},
   "outputs": [
    {
     "name": "stdout",
     "output_type": "stream",
     "text": [
      "   Low Carb  Weight\n",
      "0         1  230.14\n",
      "1         1  235.07\n",
      "2         1  224.53\n",
      "3         1  233.66\n",
      "4         1  233.39\n",
      "   Low Carb  Weight\n",
      "0         1  222.47\n",
      "1         1  222.69\n",
      "2         1  226.78\n",
      "3         1  232.62\n",
      "4         1  241.72\n"
     ]
    }
   ],
   "source": [
    "data = []\n",
    "\n",
    "def monte_carlo(n):\n",
    "    for i in range(n):\n",
    "        lowcarb = {'Low Carb':np.where(np.random.normal(1,10,n)<=1,1,1)} \n",
    "\n",
    "        weightloss = {'Weight':np.random.normal(230,10,n).round(2)}\n",
    "        \n",
    "        LowCarb = pd.DataFrame(data=lowcarb)\n",
    "        Weightloss = pd.DataFrame(data=weightloss)\n",
    "    \n",
    "        data = pd.concat([LowCarb,Weightloss],axis=1)\n",
    "    return data\n",
    "DataSB1 = monte_carlo(100)\n",
    "print(DataSB1.head())\n",
    "DataSB2 = monte_carlo(100)\n",
    "print (DataSB2.head())"
   ]
  },
  {
   "cell_type": "markdown",
   "id": "5bfef684",
   "metadata": {},
   "source": [
    "RMSE calculation"
   ]
  },
  {
   "cell_type": "code",
   "execution_count": null,
   "id": "cfcbf95f",
   "metadata": {},
   "outputs": [],
   "source": [
    "actual = DataSB1\n",
    "pred = DataSB2\n",
    "RMSE = sqrt(mse(actual,pred))\n",
    "print(RMSE)"
   ]
  },
  {
   "cell_type": "markdown",
   "id": "3fa8a747",
   "metadata": {},
   "source": [
    "Treatment Effect"
   ]
  },
  {
   "cell_type": "code",
   "execution_count": 62,
   "id": "dce0b1b3",
   "metadata": {},
   "outputs": [
    {
     "name": "stdout",
     "output_type": "stream",
     "text": [
      "                            OLS Regression Results                            \n",
      "==============================================================================\n",
      "Dep. Variable:                 Weight   R-squared:                       0.000\n",
      "Model:                            OLS   Adj. R-squared:                  0.000\n",
      "Method:                 Least Squares   F-statistic:                       nan\n",
      "Date:                Wed, 13 Apr 2022   Prob (F-statistic):                nan\n",
      "Time:                        11:20:06   Log-Likelihood:                -373.90\n",
      "No. Observations:                 100   AIC:                             749.8\n",
      "Df Residuals:                      99   BIC:                             752.4\n",
      "Df Model:                           0                                         \n",
      "Covariance Type:            nonrobust                                         \n",
      "==============================================================================\n",
      "                 coef    std err          t      P>|t|      [0.025      0.975]\n",
      "------------------------------------------------------------------------------\n",
      "Intercept    114.4315      0.511    223.773      0.000     113.417     115.446\n",
      "LowCarb      114.4315      0.511    223.773      0.000     113.417     115.446\n",
      "==============================================================================\n",
      "Omnibus:                        0.040   Durbin-Watson:                   2.300\n",
      "Prob(Omnibus):                  0.980   Jarque-Bera (JB):                0.050\n",
      "Skew:                          -0.035   Prob(JB):                        0.975\n",
      "Kurtosis:                       2.916   Cond. No.                     7.24e+16\n",
      "==============================================================================\n",
      "\n",
      "Notes:\n",
      "[1] Standard Errors assume that the covariance matrix of the errors is correctly specified.\n",
      "[2] The smallest eigenvalue is 3.81e-32. This might indicate that there are\n",
      "strong multicollinearity problems or that the design matrix is singular.\n"
     ]
    }
   ],
   "source": [
    "# Run OLS regression on DataSB1\n",
    "ols = smf.ols(formula=\"Weight ~ LowCarb\",data=DataSB1).fit()\n",
    "print(ols.summary())"
   ]
  },
  {
   "cell_type": "markdown",
   "id": "4fe03016",
   "metadata": {},
   "source": [
    "#### Bias"
   ]
  },
  {
   "cell_type": "code",
   "execution_count": 68,
   "id": "93c92a8c",
   "metadata": {},
   "outputs": [
    {
     "name": "stdout",
     "output_type": "stream",
     "text": [
      "-2.842170943040401e-14\n"
     ]
    }
   ],
   "source": [
    "Predicted_Weight = ols.predict()\n",
    "Actual_Weight = DataSB1[\"Weight\"]\n",
    "Bias = mean(Predicted_Weight) - mean(Actual_Weight) \n",
    "print(Bias)"
   ]
  }
 ],
 "metadata": {
  "kernelspec": {
   "display_name": "Python 3 (ipykernel)",
   "language": "python",
   "name": "python3"
  },
  "language_info": {
   "codemirror_mode": {
    "name": "ipython",
    "version": 3
   },
   "file_extension": ".py",
   "mimetype": "text/x-python",
   "name": "python",
   "nbconvert_exporter": "python",
   "pygments_lexer": "ipython3",
   "version": "3.9.7"
  }
 },
 "nbformat": 4,
 "nbformat_minor": 5
}
